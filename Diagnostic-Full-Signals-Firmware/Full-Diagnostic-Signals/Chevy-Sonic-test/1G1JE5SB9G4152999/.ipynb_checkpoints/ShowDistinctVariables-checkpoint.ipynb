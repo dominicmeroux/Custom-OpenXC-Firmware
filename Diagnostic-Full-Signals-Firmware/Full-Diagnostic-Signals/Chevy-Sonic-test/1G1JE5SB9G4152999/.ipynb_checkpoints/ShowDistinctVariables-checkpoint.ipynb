{
 "cells": [
  {
   "cell_type": "markdown",
   "metadata": {},
   "source": [
    "# Import OpenXC JSON files and show distinct variables collected\n",
    "\n",
    "**NOTE: This file uses [Spark 2.1.0](http://spark.apache.org) syntax (PySpark).**"
   ]
  },
  {
   "cell_type": "code",
   "execution_count": 1,
   "metadata": {
    "collapsed": true
   },
   "outputs": [],
   "source": [
    "# Import libraries\n",
    "from pyspark.sql.window import *; from pyspark.sql.functions import *; \n",
    "from pyspark.sql import DataFrame; from pyspark.sql.types import *"
   ]
  },
  {
   "cell_type": "code",
   "execution_count": 2,
   "metadata": {
    "collapsed": true
   },
   "outputs": [],
   "source": [
    "df_1G1JE5SB9G4152999 = (spark.read.json('*.json'))\\\n",
    "    .withColumn('VIN', lit('1G1JE5SB9G4152999')).withColumn('Model', lit('Spark'))"
   ]
  },
  {
   "cell_type": "code",
   "execution_count": 3,
   "metadata": {
    "collapsed": false
   },
   "outputs": [
    {
     "name": "stdout",
     "output_type": "stream",
     "text": [
      "root\n",
      " |-- _corrupt_record: string (nullable = true)\n",
      " |-- a: struct (nullable = true)\n",
      " |    |-- a: struct (nullable = true)\n",
      " |    |    |-- command: string (nullable = true)\n",
      " |    |    |-- name: string (nullable = true)\n",
      " |    |-- b: long (nullable = true)\n",
      " |-- command_response: string (nullable = true)\n",
      " |-- message: string (nullable = true)\n",
      " |-- name: string (nullable = true)\n",
      " |-- status: boolean (nullable = true)\n",
      " |-- timestamp: double (nullable = true)\n",
      " |-- value: double (nullable = true)\n",
      " |-- VIN: string (nullable = false)\n",
      " |-- Model: string (nullable = false)\n",
      "\n"
     ]
    }
   ],
   "source": [
    "df_1G1JE5SB9G4152999.printSchema()"
   ]
  },
  {
   "cell_type": "code",
   "execution_count": 8,
   "metadata": {
    "collapsed": false
   },
   "outputs": [
    {
     "name": "stdout",
     "output_type": "stream",
     "text": [
      "+-------------------------------------------+\n",
      "|name                                       |\n",
      "+-------------------------------------------+\n",
      "|longitude                                  |\n",
      "|engine_load                                |\n",
      "|oxygen_sensors_present_in_2_banks          |\n",
      "|intake_air_temperature                     |\n",
      "|evap_system_vapor_pressure                 |\n",
      "|oxygen_sensor_1_A_voltage_B_short_term_f�G\u0001|\n",
      "|fuel_system_status                         |\n",
      "|engine_rpm                                 |\n",
      "|distance_traveled_with_MIL_on              |\n",
      "|long_term_fuel_trim_bank_1                 |\n",
      "|distance_traveled_since_codes_cleared      |\n",
      "|null                                       |\n",
      "|MAF_air_flow_rate                          |\n",
      "|vehicle_speed                              |\n",
      "|engine_coolant_temperature                 |\n",
      "|fuel_pressure                              |\n",
      "|latitude                                   |\n",
      "|running_time                               |\n",
      "|control_module_voltage                     |\n",
      "|timing_advance                             |\n",
      "|PIDs_supported                             |\n",
      "|short_term_fuel_trim_bank_1                |\n",
      "|catalyst_temperature_bank_1_sensor_1       |\n",
      "|monitor_status_since_DTCs_cleared          |\n",
      "|absolute_barometric_pressure               |\n",
      "|intake_manifold_absolute_pressure          |\n",
      "|PIDs_supported_40_60                       |\n",
      "|throttle_position                          |\n",
      "|fuel_level                                 |\n",
      "+-------------------------------------------+\n",
      "\n"
     ]
    }
   ],
   "source": [
    "df_1G1JE5SB9G4152999.select(col(\"name\")).distinct().show(100, False)"
   ]
  },
  {
   "cell_type": "code",
   "execution_count": null,
   "metadata": {
    "collapsed": true
   },
   "outputs": [],
   "source": []
  }
 ],
 "metadata": {
  "kernelspec": {
   "display_name": "Python 2",
   "language": "python",
   "name": "python2"
  },
  "language_info": {
   "codemirror_mode": {
    "name": "ipython",
    "version": 2
   },
   "file_extension": ".py",
   "mimetype": "text/x-python",
   "name": "python",
   "nbconvert_exporter": "python",
   "pygments_lexer": "ipython2",
   "version": "2.7.12"
  }
 },
 "nbformat": 4,
 "nbformat_minor": 0
}
